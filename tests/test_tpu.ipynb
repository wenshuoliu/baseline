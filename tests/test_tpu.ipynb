{
 "cells": [
  {
   "cell_type": "code",
   "execution_count": 1,
   "metadata": {
    "collapsed": true
   },
   "outputs": [
    {
     "ename": "ModuleNotFoundError",
     "evalue": "No module named 'google.colab'",
     "output_type": "error",
     "traceback": [
      "\u001b[0;31m---------------------------------------------------------------------------\u001b[0m",
      "\u001b[0;31mModuleNotFoundError\u001b[0m                       Traceback (most recent call last)",
      "\u001b[0;32m<ipython-input-1-9f59a8663d02>\u001b[0m in \u001b[0;36m<module>\u001b[0;34m\u001b[0m\n\u001b[0;32m----> 1\u001b[0;31m \u001b[0;32mfrom\u001b[0m \u001b[0mgoogle\u001b[0m\u001b[0;34m.\u001b[0m\u001b[0mcolab\u001b[0m \u001b[0;32mimport\u001b[0m \u001b[0mauth\u001b[0m\u001b[0;34m\u001b[0m\u001b[0;34m\u001b[0m\u001b[0m\n\u001b[0m\u001b[1;32m      2\u001b[0m \u001b[0;32mimport\u001b[0m \u001b[0mos\u001b[0m\u001b[0;34m\u001b[0m\u001b[0;34m\u001b[0m\u001b[0m\n\u001b[1;32m      3\u001b[0m \u001b[0mauth\u001b[0m\u001b[0;34m.\u001b[0m\u001b[0mauthenticate_user\u001b[0m\u001b[0;34m(\u001b[0m\u001b[0;34m)\u001b[0m\u001b[0;34m\u001b[0m\u001b[0;34m\u001b[0m\u001b[0m\n\u001b[1;32m      4\u001b[0m \u001b[0;34m\u001b[0m\u001b[0m\n\u001b[1;32m      5\u001b[0m \u001b[0mget_ipython\u001b[0m\u001b[0;34m(\u001b[0m\u001b[0;34m)\u001b[0m\u001b[0;34m.\u001b[0m\u001b[0msystem\u001b[0m\u001b[0;34m(\u001b[0m\u001b[0;34m'gsutil ls gs://lm-sample'\u001b[0m\u001b[0;34m)\u001b[0m\u001b[0;34m\u001b[0m\u001b[0;34m\u001b[0m\u001b[0m\n",
      "\u001b[0;31mModuleNotFoundError\u001b[0m: No module named 'google.colab'"
     ]
    }
   ],
   "source": [
    "from google.colab import auth\n",
    "import os\n",
    "auth.authenticate_user()\n",
    "\n",
    "!gsutil ls gs://tlm-testing/\n",
    "os.environ['COLAB_SKIP_TPU_AUTH'] = '1'"
   ]
  },
  {
   "cell_type": "code",
   "execution_count": null,
   "metadata": {},
   "outputs": [],
   "source": [
    "!mkdir meta-data\n",
    "!gsutil cp gs://tlm-testing/auto500k/*.30k meta-data/\n",
    "!gsutil cp gs://tlm-testing/auto500k/train/md.yml meta-data/train_md.yml\n",
    "!gsutil cp gs://tlm-testing/auto500k/valid/md.yml meta-data/valid_md.yml"
   ]
  },
  {
   "cell_type": "code",
   "execution_count": null,
   "metadata": {},
   "outputs": [],
   "source": [
    "!pip install tensorflow\n",
    "!pip install fastBPE"
   ]
  },
  {
   "cell_type": "code",
   "execution_count": null,
   "metadata": {},
   "outputs": [],
   "source": [
    "!git clone -b feature/test-tpu https://github.com/wenshuoliu/baseline.git\n",
    "!cd baseline/layers/ && pip install -e .\n",
    "!cd baseline/ && pip install -e ."
   ]
  },
  {
   "cell_type": "code",
   "execution_count": null,
   "metadata": {},
   "outputs": [],
   "source": [
    "!echo $COLAB_TPU_ADDR"
   ]
  },
  {
   "cell_type": "code",
   "execution_count": null,
   "metadata": {},
   "outputs": [],
   "source": [
    "!python baseline/api-examples/pretrain_tlm_tf.py --basedir gs://tlm-testing/job-dir --subword_model_file meta-data/codes.30k --subword_vocab_file meta-data/vocab.30k --dataset_key auto \\\\\n",
    "--train_dir gs://tlm-testing/auto500k/train --valid_dir gs://tlm-testing/auto500k/valid --train_md meta-data/train_md.yml --valid_md meta-data/valid_md.yml \\\\\n",
    "--distribute tpu --tpu_ep colab --file_type tfrecord --rpr_k 3 --epochs 2 --warmup_steps 1000 --optim adamw --lr 4.e-4 --weight_decay 1.e-3 --clip 1.0 \\\\\n",
    "--nctx 256 --embed_type default --num_layers 8 --num_heads 1 --d_k 64 --d_model 512 --d_ff 2048 --batch_size 512 --saves_per_epoch 2 \\\\\n",
    "--windowed_ra 1 --rpr_value_on 0 --npz 1"
   ]
  }
 ],
 "metadata": {
  "kernelspec": {
   "display_name": "Python 3",
   "language": "python",
   "name": "python3"
  },
  "language_info": {
   "codemirror_mode": {
    "name": "ipython",
    "version": 3
   },
   "file_extension": ".py",
   "mimetype": "text/x-python",
   "name": "python",
   "nbconvert_exporter": "python",
   "pygments_lexer": "ipython3",
   "version": "3.7.4"
  }
 },
 "nbformat": 4,
 "nbformat_minor": 2
}
